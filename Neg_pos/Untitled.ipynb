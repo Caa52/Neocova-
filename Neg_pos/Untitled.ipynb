{
 "cells": [
  {
   "cell_type": "code",
   "execution_count": 17,
   "metadata": {},
   "outputs": [
    {
     "data": {
      "text/plain": [
       "array([-0.1, -0.1, -0.1, -0.1, -0.1, -0.1, -0.1, -0.1, -0.1,  0.1])"
      ]
     },
     "execution_count": 17,
     "metadata": {},
     "output_type": "execute_result"
    }
   ],
   "source": [
    "import numpy as np  \n",
    "\n",
    "Var_features = ['roeinjr','noijy','asset','RBCT1J','core_deposit','lnlsntv','County_GDP_Percent','PC_Labor_Force','PC_Unemployed','GR_Total_Population']\n",
    "s_final_features = [None] * len(Var_features)\n",
    "\n",
    "for i in range(0,len(Var_features)):\n",
    "    s_final_features[i] = \"-\"\n",
    "# s_final_features[0] = \"+\"\n",
    "# s_final_features[1] = \"+\"\n",
    "# s_final_features[2] = \"+\"\n",
    "# s_final_features[3] = \"+\"\n",
    "# s_final_features[4] = \"+\"\n",
    "# s_final_features[5] = \"+\"\n",
    "# s_final_features[6] = \"+\"\n",
    "# s_final_features[7] = \"+\"\n",
    "# s_final_features[8] = \"-\"\n",
    "# s_final_features[9] = \"+\"\n",
    "\n",
    "final_features = np.zeros(len(Var_features))\n",
    "for i in range(0,len(Var_features)):\n",
    "    final_features[i] = \n",
    "final_features[0] = 0.1\n",
    "final_features[1] = 0.1\n",
    "final_features[2] = 0.1\n",
    "final_features[3] = 0.1\n",
    "final_features[4] = 0.1\n",
    "final_features[5] = 0.1\n",
    "final_features[6] = 0.1\n",
    "final_features[7] = 0.1\n",
    "final_features[8] = 0.1\n",
    "final_features[9] = 0.1\n",
    "\n",
    "for i in range(0,9):\n",
    "    if s_final_features[i] == \"-\":\n",
    "        final_features[i] = final_features[i]*(-1)\n",
    "\n",
    "fianl_features.append(final_features)\n",
    "final_features       "
   ]
  },
  {
   "cell_type": "code",
   "execution_count": null,
   "metadata": {},
   "outputs": [],
   "source": [
    " \n",
    "        final_features = [final_features.tolist()]\n",
    "        \n",
    "        scoring_uri = 'http://5e56fe7c-6b6f-47ff-bdfb-fac9b4b8c334.westus2.azurecontainer.io/score'\n",
    "     \n",
    "        data = {\"data\": final_features}\n",
    "        input_data = json.dumps(data)\n",
    "        headers= {'Content-Type': 'application/json'}\n",
    "        resp = requests.post(scoring_uri, input_data, headers=headers)\n",
    "        \n",
    "        output  = json.loads(resp.text)\n",
    "        # output  = resp.text\n",
    "        output = output[0][0]\n",
    "\n",
    "        history = History(input1 = final_features[0][0],\n",
    "            input2 = final_features[0][1],\n",
    "            input3 = final_features[0][2],\n",
    "            output = output,\n",
    "            time = datetime.now())\n",
    "        \n",
    "         # s_final_features[0] = form.s_roeinjr.data\n",
    "        # s_final_features[1] = form.s_noijy.data\n",
    "        # s_final_features[2] = form.s_asset.data\n",
    "        # s_final_features[3] = form.s_RBCT1J.data\n",
    "        # s_final_features[4] = form.s_core_deposit.data\n",
    "        # s_final_features[5] = form.s_lnlsntv.data\n",
    "        # s_final_features[6] = form.s_County_GDP_Percent.data\n",
    "        # s_final_features[7] = form.s_PC_Labor_Force.data\n",
    "        # s_final_features[8] = form.s_PC_Unemployed.data\n",
    "        # s_final_features[9] = form.s_GR_Total_Population.data\n",
    "\n",
    "       \n",
    "       for i in range(0,len(Var_features)):\n",
    "            final_features[i] = form.Var_features[i].data\n",
    "        # final_features[0] = form.roeinjr.data\n",
    "        # final_features[1] = form.noijy.data\n",
    "        # final_features[2] = form.asset.data\n",
    "        # final_features[3] = form.RBCT1J.data\n",
    "        # final_features[4] = form.core_deposit.data\n",
    "        # final_features[5] = form.lnlsntv.data\n",
    "        # final_features[6] = form.County_GDP_Percent.data\n",
    "        # final_features[7] = form.PC_Labor_Force.data\n",
    "        # final_features[8] = form.PC_Unemployed.data\n",
    "        # final_features[9] = form.GR_Total_Population.data\n",
    "       "
   ]
  }
 ],
 "metadata": {
  "kernelspec": {
   "display_name": "Python 3",
   "language": "python",
   "name": "python3"
  },
  "language_info": {
   "codemirror_mode": {
    "name": "ipython",
    "version": 3
   },
   "file_extension": ".py",
   "mimetype": "text/x-python",
   "name": "python",
   "nbconvert_exporter": "python",
   "pygments_lexer": "ipython3",
   "version": "3.7.3"
  }
 },
 "nbformat": 4,
 "nbformat_minor": 2
}
